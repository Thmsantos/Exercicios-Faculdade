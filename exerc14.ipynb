{
  "nbformat": 4,
  "nbformat_minor": 0,
  "metadata": {
    "colab": {
      "provenance": [],
      "authorship_tag": "ABX9TyPbqt5/xJHPQl9M1rUIwqLu",
      "include_colab_link": true
    },
    "kernelspec": {
      "name": "python3",
      "display_name": "Python 3"
    },
    "language_info": {
      "name": "python"
    }
  },
  "cells": [
    {
      "cell_type": "markdown",
      "metadata": {
        "id": "view-in-github",
        "colab_type": "text"
      },
      "source": [
        "<a href=\"https://colab.research.google.com/github/Thmsantos/Exercicios-Faculdade/blob/main/exerc14.ipynb\" target=\"_parent\"><img src=\"https://colab.research.google.com/assets/colab-badge.svg\" alt=\"Open In Colab\"/></a>"
      ]
    },
    {
      "cell_type": "code",
      "execution_count": 19,
      "metadata": {
        "colab": {
          "base_uri": "https://localhost:8080/"
        },
        "id": "omQHadlG8WWb",
        "outputId": "5415661d-65ca-401c-a342-b08cbaa57369"
      },
      "outputs": [
        {
          "output_type": "stream",
          "name": "stdout",
          "text": [
            "numero: 085\n",
            "B: 9\n",
            "77\n"
          ]
        }
      ],
      "source": [
        "numero = int(input(\"numero: \"))\n",
        "b = int(input(\"B: \"))\n",
        "\n",
        "x1 = numero // 100\n",
        "resto = numero % 100\n",
        "x2 = resto //10\n",
        "x3 = resto % 10\n",
        "\n",
        "numero_convertido =  (x1 * (b**2)) + (x2 *(b**1) + (x3 *(b**0)))\n",
        "print(numero_convertido)\n",
        "\n"
      ]
    }
  ]
}