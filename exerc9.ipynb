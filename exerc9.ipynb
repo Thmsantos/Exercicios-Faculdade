{
  "nbformat": 4,
  "nbformat_minor": 0,
  "metadata": {
    "colab": {
      "provenance": [],
      "authorship_tag": "ABX9TyOmmVMd+aTX4/9SeT+3Cuxj",
      "include_colab_link": true
    },
    "kernelspec": {
      "name": "python3",
      "display_name": "Python 3"
    },
    "language_info": {
      "name": "python"
    }
  },
  "cells": [
    {
      "cell_type": "markdown",
      "metadata": {
        "id": "view-in-github",
        "colab_type": "text"
      },
      "source": [
        "<a href=\"https://colab.research.google.com/github/Thmsantos/Exercicios-Faculdade/blob/main/exerc9.ipynb\" target=\"_parent\"><img src=\"https://colab.research.google.com/assets/colab-badge.svg\" alt=\"Open In Colab\"/></a>"
      ]
    },
    {
      "cell_type": "code",
      "execution_count": 5,
      "metadata": {
        "colab": {
          "base_uri": "https://localhost:8080/"
        },
        "id": "omQHadlG8WWb",
        "outputId": "90bc3b08-e5fa-4594-de82-a18800f68f77"
      },
      "outputs": [
        {
          "output_type": "stream",
          "name": "stdout",
          "text": [
            "Numero um: 12\n",
            "Numero dois: 5\n",
            "Numero tres: 33\n",
            "Media de 12.0,  5.0 e 33.0:  16.7\n"
          ]
        }
      ],
      "source": [
        "num1 = float(input(\"Numero um: \"))\n",
        "num2 = float(input(\"Numero dois: \"))\n",
        "num3 = float(input(\"Numero tres: \"))\n",
        "\n",
        "media = (num1 + num2 + num3) / 3\n",
        "\n",
        "print(\"Media de %4.1f, %4.1f e %4.1f:  %4.1f\"% (num1, num2, num3, media) )"
      ]
    }
  ]
}